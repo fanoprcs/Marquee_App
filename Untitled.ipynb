{
 "cells": [
  {
   "cell_type": "code",
   "execution_count": 72,
   "id": "5c2a6e48-6c75-4081-893f-020d0644d78d",
   "metadata": {},
   "outputs": [
    {
     "data": {
      "image/png": "[encoded data removed]",
      "text/plain": [
       "<Figure size 432x288 with 1 Axes>"
      ]
     },
     "metadata": {
      "needs_background": "light"
     },
     "output_type": "display_data"
    },
    {
     "data": {
      "image/png": "[encoded data removed]",
      "text/plain": [
       "<Figure size 432x288 with 1 Axes>"
      ]
     },
     "metadata": {
      "needs_background": "light"
     },
     "output_type": "display_data"
    }
   ],
   "source": [
    "from PIL import Image, ImageDraw, ImageFont\n",
    "import numpy as np\n",
    "import cv2\n",
    "#msjh.ttc 微軟\n",
    "#kaiu.ttf 標楷\n",
    "#mingliu.ttc 新細明體\n",
    "import matplotlib.pyplot as plt\n",
    "\n",
    "\n",
    "word = '王心凌我愛你媽媽'\n",
    "font_style = \"kaiu.ttf\"\n",
    "word_color = (0,255,255)\n",
    "background_color = (255, 251, 240)\n",
    "\n",
    "\n",
    "fontsize = 72\n",
    "font = ImageFont.truetype(font_style, fontsize, encoding='utf-8')\n",
    "# RGB\n",
    "\n",
    "width = 288\n",
    "height = 100\n",
    "unit = 256\n",
    "\n",
    "if fontsize * len(word) >= width:\n",
    "    image = Image.new(mode = 'RGB', size = (fontsize * len(word) + unit, height), color = background_color)\n",
    "    draw = ImageDraw.Draw(image)\n",
    "    draw.text((0, (height-fontsize)/ 2), word, fill = word_color, font=font)\n",
    "    plt.imshow(image)  # 使用matplotlib显示\n",
    "    plt.show()\n",
    "else:\n",
    "    image = Image.new(mode = 'RGB', size = (unit + (fontsize * len(word)), height), color = background_color)\n",
    "    draw = ImageDraw.Draw(image)\n",
    "    draw.text((0, (height-fontsize)/ 2), word, fill = word_color, font=font)\n",
    "    plt.imshow(image)  # 使用matplotlib显示\n",
    "    plt.show()\n",
    "image2 = np.asarray(image)\n",
    "\n",
    "\n",
    "\n",
    "\n",
    "\n",
    "\n",
    "\n",
    "\n",
    "first = image2[:,[0]]\n",
    "for i in range(image2.shape[1]-1):\n",
    "    image2[:,[i]] = image2[:,[i+1]]\n",
    "image2[:,[image2.shape[1]-1]] = first\n",
    "plt.imshow(image2)  # 使用matplotlib显示\n",
    "plt.show()\n",
    "\n",
    "\n",
    "\n",
    "\n",
    "\n",
    "#image2 = cv2.resize(image2, None, fx = 600 / image2.shape[0], fy= 600 / image2.shape[0], interpolation = cv2.INTER_AREA)\n",
    "\n",
    "#plt.imshow(image2)  # 使用matplotlib显示\n",
    "#plt.show()\n",
    "#print(np.array(image2, dtype=int))"
   ]
  },
  {
   "cell_type": "code",
   "execution_count": 70,
   "id": "d04c86c3-c3cf-4578-8df1-cfeaba8d21f4",
   "metadata": {},
   "outputs": [
    {
     "ename": "TypeError",
     "evalue": "list indices must be integers or slices, not tuple",
     "output_type": "error",
     "traceback": [
      "\u001b[1;31m---------------------------------------------------------------------------\u001b[0m",
      "\u001b[1;31mTypeError\u001b[0m                                 Traceback (most recent call last)",
      "\u001b[1;32m~\\AppData\\Local\\Temp/ipykernel_20272/2554068059.py\u001b[0m in \u001b[0;36m<module>\u001b[1;34m\u001b[0m\n\u001b[0;32m      4\u001b[0m               \u001b[1;33m[\u001b[0m\u001b[1;36m9\u001b[0m\u001b[1;33m,\u001b[0m\u001b[1;36m9\u001b[0m\u001b[1;33m,\u001b[0m\u001b[1;36m3\u001b[0m\u001b[1;33m]\u001b[0m\u001b[1;33m,\u001b[0m\u001b[1;33m\u001b[0m\u001b[1;33m\u001b[0m\u001b[0m\n\u001b[0;32m      5\u001b[0m               [8,2,4]]\n\u001b[1;32m----> 6\u001b[1;33m \u001b[0mprint\u001b[0m\u001b[1;33m(\u001b[0m\u001b[0ma\u001b[0m\u001b[1;33m[\u001b[0m\u001b[1;33m:\u001b[0m \u001b[1;33m,\u001b[0m\u001b[1;36m0\u001b[0m\u001b[1;33m:\u001b[0m\u001b[1;36m2\u001b[0m\u001b[1;33m]\u001b[0m\u001b[1;33m)\u001b[0m\u001b[1;33m\u001b[0m\u001b[1;33m\u001b[0m\u001b[0m\n\u001b[0m\u001b[0;32m      7\u001b[0m \u001b[0mspeed\u001b[0m \u001b[1;33m=\u001b[0m \u001b[1;36m2\u001b[0m\u001b[1;33m\u001b[0m\u001b[1;33m\u001b[0m\u001b[0m\n\u001b[0;32m      8\u001b[0m \u001b[1;33m\u001b[0m\u001b[0m\n",
      "\u001b[1;31mTypeError\u001b[0m: list indices must be integers or slices, not tuple"
     ]
    }
   ],
   "source": [
    "import numpy as np\n",
    "a = np.array([[4,3,1], \n",
    "              [5,7,0], \n",
    "              [9,9,3], \n",
    "              [8,2,4]])\n",
    "print(a[: ,0:2])\n",
    "speed = 2\n",
    "\n",
    "first = a[: ,0:speed].copy()\n",
    "for i in range(0, a.shape[1] - speed, speed):\n",
    "    a[:, i:i+speed] = a[:, i + speed: i + speed + speed]\n",
    "\n",
    "a[:, a.shape[1]-speed : a.shape[1]] = first\n",
    "print(first)\n",
    "a.extend(a)"
   ]
  },
  {
   "cell_type": "code",
   "execution_count": null,
   "id": "0e5998ec-45ef-4f5c-9e8c-87b94d1b2f1b",
   "metadata": {},
   "outputs": [],
   "source": []
  }
 ],
 "metadata": {
  "kernelspec": {
   "display_name": "Python 3 (ipykernel)",
   "language": "python",
   "name": "python3"
  },
  "language_info": {
   "codemirror_mode": {
    "name": "ipython",
    "version": 3
   },
   "file_extension": ".py",
   "mimetype": "text/x-python",
   "name": "python",
   "nbconvert_exporter": "python",
   "pygments_lexer": "ipython3",
   "version": "3.9.7"
  }
 },
 "nbformat": 4,
 "nbformat_minor": 5
}
